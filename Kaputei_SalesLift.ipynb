{
  "cells": [
    {
      "cell_type": "code",
      "execution_count": 102,
      "metadata": {
        "colab": {
          "base_uri": "https://localhost:8080/"
        },
        "id": "sRNLmAPS7nk2",
        "outputId": "c396306f-c84f-460e-ece6-9f965d7df733"
      },
      "outputs": [
        {
          "name": "stdout",
          "output_type": "stream",
          "text": [
            "Defaulting to user installation because normal site-packages is not writeableNote: you may need to restart the kernel to use updated packages.\n",
            "\n",
            "Requirement already satisfied: surprise in c:\\users\\user\\appdata\\roaming\\python\\python312\\site-packages (0.1)\n",
            "Requirement already satisfied: scikit-surprise in c:\\users\\user\\appdata\\roaming\\python\\python312\\site-packages (from surprise) (1.1.4)\n",
            "Requirement already satisfied: joblib>=1.2.0 in c:\\users\\user\\appdata\\roaming\\python\\python312\\site-packages (from scikit-surprise->surprise) (1.4.0)\n",
            "Requirement already satisfied: numpy>=1.19.5 in c:\\users\\user\\appdata\\roaming\\python\\python312\\site-packages (from scikit-surprise->surprise) (1.26.4)\n",
            "Requirement already satisfied: scipy>=1.6.0 in c:\\users\\user\\appdata\\roaming\\python\\python312\\site-packages (from scikit-surprise->surprise) (1.12.0)\n"
          ]
        },
        {
          "name": "stderr",
          "output_type": "stream",
          "text": [
            "\n",
            "[notice] A new release of pip is available: 24.1 -> 25.0.1\n",
            "[notice] To update, run: python.exe -m pip install --upgrade pip\n"
          ]
        }
      ],
      "source": [
        "pip install surprise"
      ]
    },
    {
      "cell_type": "code",
      "execution_count": 103,
      "metadata": {
        "id": "C8g33w-m7-aL"
      },
      "outputs": [],
      "source": [
        "import warnings                                 # Used to ignore the warning given as output of the code\n",
        "warnings.filterwarnings('ignore')\n",
        "import numpy as np                              # Basic libraries of python for numeric and dataframe computations\n",
        "import pandas as pd\n",
        "import matplotlib.pyplot as plt                 # Basic library for data visualization\n",
        "import seaborn as sns                           # Slightly advanced library for data visualization\n",
        "from collections import defaultdict             # A dictionary output that does not raise a key error\n",
        "from sklearn.metrics import mean_squared_error  # A performance metrics in sklearn"
      ]
    },
    {
      "cell_type": "code",
      "execution_count": 104,
      "metadata": {
        "id": "DCqIWrjg7-eU"
      },
      "outputs": [],
      "source": [
        "# Import the dataset\n",
        "df = pd.read_csv('kaputei_ratings.csv', header = None)  # There are no headers in the data file\n",
        "df.columns = ['customer', 'product', 'rating']"
      ]
    },
    {
      "cell_type": "code",
      "execution_count": 105,
      "metadata": {
        "colab": {
          "base_uri": "https://localhost:8080/",
          "height": 206
        },
        "id": "3wpgnjDm7-h-",
        "outputId": "e3acaf94-014d-4e2f-fa24-2eb7a341ca9d"
      },
      "outputs": [
        {
          "data": {
            "application/vnd.microsoft.datawrangler.viewer.v0+json": {
              "columns": [
                {
                  "name": "index",
                  "rawType": "int64",
                  "type": "integer"
                },
                {
                  "name": "customer",
                  "rawType": "object",
                  "type": "string"
                },
                {
                  "name": "product",
                  "rawType": "object",
                  "type": "string"
                },
                {
                  "name": "rating",
                  "rawType": "int64",
                  "type": "integer"
                }
              ],
              "conversionMethod": "pd.DataFrame",
              "ref": "30a159c2-fd74-4650-a972-869d57822350",
              "rows": [
                [
                  "0",
                  "Carrefour - Comet",
                  "1000 Island Dressing  250gms",
                  "2"
                ],
                [
                  "1",
                  "Carrefour - Comet",
                  "Barbecue Sauce 400 gms",
                  "5"
                ],
                [
                  "2",
                  "Carrefour - Comet",
                  "Barbecue Sauce 700gm",
                  "1"
                ],
                [
                  "3",
                  "Carrefour - Comet",
                  "Barbecue Sauce Honey 700g",
                  "2"
                ],
                [
                  "4",
                  "Carrefour - Comet",
                  "Barbecue Sauce Smoke 700g",
                  "2"
                ]
              ],
              "shape": {
                "columns": 3,
                "rows": 5
              }
            },
            "text/html": [
              "<div>\n",
              "<style scoped>\n",
              "    .dataframe tbody tr th:only-of-type {\n",
              "        vertical-align: middle;\n",
              "    }\n",
              "\n",
              "    .dataframe tbody tr th {\n",
              "        vertical-align: top;\n",
              "    }\n",
              "\n",
              "    .dataframe thead th {\n",
              "        text-align: right;\n",
              "    }\n",
              "</style>\n",
              "<table border=\"1\" class=\"dataframe\">\n",
              "  <thead>\n",
              "    <tr style=\"text-align: right;\">\n",
              "      <th></th>\n",
              "      <th>customer</th>\n",
              "      <th>product</th>\n",
              "      <th>rating</th>\n",
              "    </tr>\n",
              "  </thead>\n",
              "  <tbody>\n",
              "    <tr>\n",
              "      <th>0</th>\n",
              "      <td>Carrefour - Comet</td>\n",
              "      <td>1000 Island Dressing  250gms</td>\n",
              "      <td>2</td>\n",
              "    </tr>\n",
              "    <tr>\n",
              "      <th>1</th>\n",
              "      <td>Carrefour - Comet</td>\n",
              "      <td>Barbecue Sauce 400 gms</td>\n",
              "      <td>5</td>\n",
              "    </tr>\n",
              "    <tr>\n",
              "      <th>2</th>\n",
              "      <td>Carrefour - Comet</td>\n",
              "      <td>Barbecue Sauce 700gm</td>\n",
              "      <td>1</td>\n",
              "    </tr>\n",
              "    <tr>\n",
              "      <th>3</th>\n",
              "      <td>Carrefour - Comet</td>\n",
              "      <td>Barbecue Sauce Honey 700g</td>\n",
              "      <td>2</td>\n",
              "    </tr>\n",
              "    <tr>\n",
              "      <th>4</th>\n",
              "      <td>Carrefour - Comet</td>\n",
              "      <td>Barbecue Sauce Smoke 700g</td>\n",
              "      <td>2</td>\n",
              "    </tr>\n",
              "  </tbody>\n",
              "</table>\n",
              "</div>"
            ],
            "text/plain": [
              "            customer                       product  rating\n",
              "0  Carrefour - Comet  1000 Island Dressing  250gms       2\n",
              "1  Carrefour - Comet        Barbecue Sauce 400 gms       5\n",
              "2  Carrefour - Comet          Barbecue Sauce 700gm       1\n",
              "3  Carrefour - Comet     Barbecue Sauce Honey 700g       2\n",
              "4  Carrefour - Comet     Barbecue Sauce Smoke 700g       2"
            ]
          },
          "execution_count": 105,
          "metadata": {},
          "output_type": "execute_result"
        }
      ],
      "source": [
        "# Print a few rows of the imported dataset\n",
        "df.head()"
      ]
    },
    {
      "cell_type": "markdown",
      "metadata": {
        "id": "uJr_Zqha-rCR"
      },
      "source": [
        "Exploratory Data Analysis"
      ]
    },
    {
      "cell_type": "code",
      "execution_count": 106,
      "metadata": {
        "colab": {
          "base_uri": "https://localhost:8080/"
        },
        "id": "zgkLINDY-lSh",
        "outputId": "e5c168eb-4f3a-4a51-a456-6b3936737d90"
      },
      "outputs": [
        {
          "name": "stdout",
          "output_type": "stream",
          "text": [
            "No of rows:  10049\n",
            "No of columns:  3\n"
          ]
        }
      ],
      "source": [
        "# Check the number of rows and columns and provide observations\n",
        "rows, columns = df.shape\n",
        "print(\"No of rows: \", rows)\n",
        "print(\"No of columns: \", columns)"
      ]
    },
    {
      "cell_type": "code",
      "execution_count": 107,
      "metadata": {
        "colab": {
          "base_uri": "https://localhost:8080/"
        },
        "id": "TY6DKxzn-lVb",
        "outputId": "957b2ba8-4aa0-4199-ed5e-4e6dd0871b29"
      },
      "outputs": [
        {
          "name": "stdout",
          "output_type": "stream",
          "text": [
            "<class 'pandas.core.frame.DataFrame'>\n",
            "RangeIndex: 10049 entries, 0 to 10048\n",
            "Data columns (total 3 columns):\n",
            " #   Column    Non-Null Count  Dtype \n",
            "---  ------    --------------  ----- \n",
            " 0   customer  10049 non-null  object\n",
            " 1   product   10049 non-null  object\n",
            " 2   rating    10049 non-null  int64 \n",
            "dtypes: int64(1), object(2)\n",
            "memory usage: 235.7+ KB\n"
          ]
        }
      ],
      "source": [
        "# Check Data types and provide observations\n",
        "df.info()"
      ]
    },
    {
      "cell_type": "code",
      "execution_count": 108,
      "metadata": {
        "colab": {
          "base_uri": "https://localhost:8080/",
          "height": 178
        },
        "id": "Sc2958N--ld-",
        "outputId": "b2447bb1-a891-4396-f70b-7cf00ce1ad00"
      },
      "outputs": [
        {
          "data": {
            "text/plain": [
              "customer    0\n",
              "product     0\n",
              "rating      0\n",
              "dtype: int64"
            ]
          },
          "execution_count": 108,
          "metadata": {},
          "output_type": "execute_result"
        }
      ],
      "source": [
        "# Check for missing values present and provide observations\n",
        "df.isna().sum()"
      ]
    },
    {
      "cell_type": "code",
      "execution_count": 109,
      "metadata": {
        "colab": {
          "base_uri": "https://localhost:8080/",
          "height": 300
        },
        "id": "j53Ilc7TFFxj",
        "outputId": "1c6038ba-6366-4645-e151-16256f667cec"
      },
      "outputs": [
        {
          "data": {
            "application/vnd.microsoft.datawrangler.viewer.v0+json": {
              "columns": [
                {
                  "name": "index",
                  "rawType": "object",
                  "type": "string"
                },
                {
                  "name": "rating",
                  "rawType": "float64",
                  "type": "float"
                }
              ],
              "conversionMethod": "pd.DataFrame",
              "ref": "ef81e983-8d5f-448a-a7d5-cafa2dae4a77",
              "rows": [
                [
                  "count",
                  "10049.0"
                ],
                [
                  "mean",
                  "3.591004080007961"
                ],
                [
                  "std",
                  "1.611408952002076"
                ],
                [
                  "min",
                  "1.0"
                ],
                [
                  "25%",
                  "2.0"
                ],
                [
                  "50%",
                  "5.0"
                ],
                [
                  "75%",
                  "5.0"
                ],
                [
                  "max",
                  "5.0"
                ]
              ],
              "shape": {
                "columns": 1,
                "rows": 8
              }
            },
            "text/html": [
              "<div>\n",
              "<style scoped>\n",
              "    .dataframe tbody tr th:only-of-type {\n",
              "        vertical-align: middle;\n",
              "    }\n",
              "\n",
              "    .dataframe tbody tr th {\n",
              "        vertical-align: top;\n",
              "    }\n",
              "\n",
              "    .dataframe thead th {\n",
              "        text-align: right;\n",
              "    }\n",
              "</style>\n",
              "<table border=\"1\" class=\"dataframe\">\n",
              "  <thead>\n",
              "    <tr style=\"text-align: right;\">\n",
              "      <th></th>\n",
              "      <th>rating</th>\n",
              "    </tr>\n",
              "  </thead>\n",
              "  <tbody>\n",
              "    <tr>\n",
              "      <th>count</th>\n",
              "      <td>10049.000000</td>\n",
              "    </tr>\n",
              "    <tr>\n",
              "      <th>mean</th>\n",
              "      <td>3.591004</td>\n",
              "    </tr>\n",
              "    <tr>\n",
              "      <th>std</th>\n",
              "      <td>1.611409</td>\n",
              "    </tr>\n",
              "    <tr>\n",
              "      <th>min</th>\n",
              "      <td>1.000000</td>\n",
              "    </tr>\n",
              "    <tr>\n",
              "      <th>25%</th>\n",
              "      <td>2.000000</td>\n",
              "    </tr>\n",
              "    <tr>\n",
              "      <th>50%</th>\n",
              "      <td>5.000000</td>\n",
              "    </tr>\n",
              "    <tr>\n",
              "      <th>75%</th>\n",
              "      <td>5.000000</td>\n",
              "    </tr>\n",
              "    <tr>\n",
              "      <th>max</th>\n",
              "      <td>5.000000</td>\n",
              "    </tr>\n",
              "  </tbody>\n",
              "</table>\n",
              "</div>"
            ],
            "text/plain": [
              "             rating\n",
              "count  10049.000000\n",
              "mean       3.591004\n",
              "std        1.611409\n",
              "min        1.000000\n",
              "25%        2.000000\n",
              "50%        5.000000\n",
              "75%        5.000000\n",
              "max        5.000000"
            ]
          },
          "execution_count": 109,
          "metadata": {},
          "output_type": "execute_result"
        }
      ],
      "source": [
        "# Summary statistics of 'rating' variable and provide observations\n",
        "df.describe()"
      ]
    },
    {
      "cell_type": "code",
      "execution_count": 110,
      "metadata": {
        "colab": {
          "base_uri": "https://localhost:8080/",
          "height": 386
        },
        "id": "79Rxiou6FF0j",
        "outputId": "5d7ee75d-37ee-40cd-8656-e1cca2c6059d"
      },
      "outputs": [
        {
          "data": {
            "image/png": "[encoded data removed]",
            "text/plain": [
              "<Figure size 1200x600 with 1 Axes>"
            ]
          },
          "metadata": {},
          "output_type": "display_data"
        }
      ],
      "source": [
        "# Create the bar plot and provide observations\n",
        "plt.figure(figsize = (12, 6))\n",
        "\n",
        "ax = df['rating'].value_counts(1).plot(kind = 'bar')\n",
        "\n",
        "ax.bar_label(ax.containers[0])\n",
        "\n",
        "plt.show()"
      ]
    },
    {
      "cell_type": "code",
      "execution_count": 111,
      "metadata": {
        "colab": {
          "base_uri": "https://localhost:8080/"
        },
        "id": "Swp789nTFF38",
        "outputId": "21a95ca1-be0a-482d-a85f-3127cacb2a28"
      },
      "outputs": [
        {
          "name": "stdout",
          "output_type": "stream",
          "text": [
            "The number of observations in the final data =  10049\n",
            "Number of unique USERS in Raw data =  218\n",
            "Number of unique ITEMS in Raw data =  149\n"
          ]
        }
      ],
      "source": [
        "\n",
        "print('The number of observations in the final data = ', len(df))\n",
        "print('Number of unique USERS in Raw data = ', df['customer'].nunique())\n",
        "print('Number of unique ITEMS in Raw data = ', df['product'].nunique())"
      ]
    },
    {
      "cell_type": "code",
      "execution_count": 112,
      "metadata": {
        "colab": {
          "base_uri": "https://localhost:8080/",
          "height": 429
        },
        "id": "3lYxFioHFF7W",
        "outputId": "5230b8c5-0985-4b85-c9cd-7a57d7321db4"
      },
      "outputs": [
        {
          "data": {
            "text/plain": [
              "customer\n",
              "Carrefour - Sarit         112\n",
              "Carrefour - Nyali         110\n",
              "Carrefour - Hub           109\n",
              "Carrefour - Junction      109\n",
              "Carrefour - Westgate      109\n",
              "Carrefour - Galleria      108\n",
              "Carrefour - Mega          108\n",
              "Carrefour - Diani         107\n",
              "Carrefour - TRM           107\n",
              "Carrefour - Two Rivers    107\n",
              "dtype: int64"
            ]
          },
          "execution_count": 112,
          "metadata": {},
          "output_type": "execute_result"
        }
      ],
      "source": [
        "# Top 10 users based on the number of ratings\n",
        "most_rated = df.groupby('customer').size().sort_values(ascending = False)[:10]\n",
        "most_rated"
      ]
    },
    {
      "cell_type": "markdown",
      "metadata": {
        "id": "tQJNJq3-FqIi"
      },
      "source": [
        "Model 1: Rank Based Recommendation System"
      ]
    },
    {
      "cell_type": "code",
      "execution_count": 113,
      "metadata": {
        "colab": {
          "base_uri": "https://localhost:8080/",
          "height": 423
        },
        "id": "fY5zaNeFFF-z",
        "outputId": "191a5ee6-5a48-447b-8b8b-5bb07ac7015f"
      },
      "outputs": [
        {
          "data": {
            "application/vnd.microsoft.datawrangler.viewer.v0+json": {
              "columns": [
                {
                  "name": "index",
                  "rawType": "int64",
                  "type": "integer"
                },
                {
                  "name": "customer",
                  "rawType": "object",
                  "type": "string"
                },
                {
                  "name": "product",
                  "rawType": "object",
                  "type": "string"
                },
                {
                  "name": "rating",
                  "rawType": "int64",
                  "type": "integer"
                }
              ],
              "conversionMethod": "pd.DataFrame",
              "ref": "23a8052d-2e4b-44f7-a052-872d50157aad",
              "rows": [
                [
                  "0",
                  "Carrefour - Comet",
                  "1000 Island Dressing  250gms",
                  "2"
                ],
                [
                  "1",
                  "Carrefour - Comet",
                  "Barbecue Sauce 400 gms",
                  "5"
                ],
                [
                  "2",
                  "Carrefour - Comet",
                  "Barbecue Sauce 700gm",
                  "1"
                ],
                [
                  "3",
                  "Carrefour - Comet",
                  "Barbecue Sauce Honey 700g",
                  "2"
                ],
                [
                  "4",
                  "Carrefour - Comet",
                  "Barbecue Sauce Smoke 700g",
                  "2"
                ],
                [
                  "5",
                  "Carrefour - Comet",
                  "Barbeque Sauce 1 KG",
                  "1"
                ],
                [
                  "6",
                  "Carrefour - Comet",
                  "Barbeque Sauce Smoke 400g",
                  "2"
                ],
                [
                  "7",
                  "Carrefour - Comet",
                  "Barbeque Sauce with Honey 400g",
                  "1"
                ],
                [
                  "8",
                  "Carrefour - Comet",
                  "Basil Pesto 190g",
                  "3"
                ],
                [
                  "9",
                  "Carrefour - Comet",
                  "Cheese Sauce",
                  "3"
                ],
                [
                  "10",
                  "Carrefour - Comet",
                  "Chipotle Dressing 250gms",
                  "1"
                ],
                [
                  "11",
                  "Carrefour - Comet",
                  "Choma sauce 400gms",
                  "1"
                ],
                [
                  "12",
                  "Carrefour - Comet",
                  "Cool Ranch Dressing 250gms",
                  "4"
                ],
                [
                  "13",
                  "Carrefour - Comet",
                  "Corriander Pesto 190g",
                  "5"
                ],
                [
                  "14",
                  "Carrefour - Comet",
                  "Honey Mustard Dressing 250gms",
                  "1"
                ],
                [
                  "15",
                  "Carrefour - Comet",
                  "Honey Premium Squeeze Bottle 500g",
                  "2"
                ],
                [
                  "16",
                  "Carrefour - Comet",
                  "Honey Squeeze Bottle 300g",
                  "1"
                ],
                [
                  "17",
                  "Carrefour - Comet",
                  "Hot Chilli Sauce 250g",
                  "1"
                ],
                [
                  "18",
                  "Carrefour - Comet",
                  "Jalapenos 350g",
                  "2"
                ],
                [
                  "19",
                  "Carrefour - Comet",
                  "Jalapenos Sliced 700 gms",
                  "1"
                ],
                [
                  "20",
                  "Carrefour - Comet",
                  "Lasagna Sauce 330g",
                  "1"
                ],
                [
                  "21",
                  "Carrefour - Comet",
                  "Lasagna Sauce 375g",
                  "2"
                ],
                [
                  "22",
                  "Carrefour - Comet",
                  "Mango Chutney 360g",
                  "3"
                ],
                [
                  "23",
                  "Carrefour - Comet",
                  "Mayo Ketchup Dressing 250gms",
                  "1"
                ],
                [
                  "24",
                  "Carrefour - Comet",
                  "Mayonnaise 350g",
                  "2"
                ],
                [
                  "25",
                  "Carrefour - Comet",
                  "Mayonnaise Premium Blend 350g",
                  "1"
                ],
                [
                  "26",
                  "Carrefour - Comet",
                  "Mustard 250gms",
                  "4"
                ],
                [
                  "27",
                  "Carrefour - Comet",
                  "Mustard dressing 250gms",
                  "1"
                ],
                [
                  "28",
                  "Carrefour - Comet",
                  "Natural Honey 1 KG",
                  "5"
                ],
                [
                  "29",
                  "Carrefour - Comet",
                  "Natural Honey 2kg",
                  "1"
                ],
                [
                  "30",
                  "Carrefour - Comet",
                  "Natural Honey 500gms",
                  "2"
                ],
                [
                  "31",
                  "Carrefour - Comet",
                  "Orange Marmalade 400 gms",
                  "2"
                ],
                [
                  "32",
                  "Carrefour - Comet",
                  "Passion Fruit Jam 400g",
                  "1"
                ],
                [
                  "33",
                  "Carrefour - Comet",
                  "Pasta Cheese",
                  "2"
                ],
                [
                  "34",
                  "Carrefour - Comet",
                  "Pasta Sauce Basil 375g",
                  "4"
                ],
                [
                  "35",
                  "Carrefour - Comet",
                  "Pasta Sauce Basil 530g",
                  "2"
                ],
                [
                  "36",
                  "Carrefour - Comet",
                  "Pasta Sauce Garlic 375g",
                  "2"
                ],
                [
                  "37",
                  "Carrefour - Comet",
                  "Pasta Sauce Garlic 530g",
                  "3"
                ],
                [
                  "38",
                  "Carrefour - Comet",
                  "Pasta Sauce Hot",
                  "2"
                ],
                [
                  "39",
                  "Carrefour - Comet",
                  "Pasta Sauce Mushroom 375gms",
                  "2"
                ],
                [
                  "40",
                  "Carrefour - Comet",
                  "Pasta Sauce Regular 375g",
                  "3"
                ],
                [
                  "41",
                  "Carrefour - Comet",
                  "Pasta Sauce Regular 530g",
                  "3"
                ],
                [
                  "42",
                  "Carrefour - Comet",
                  "Pickled Gherkins 300 gm",
                  "2"
                ],
                [
                  "43",
                  "Carrefour - Comet",
                  "Pickled Gherkins 700g",
                  "2"
                ],
                [
                  "44",
                  "Carrefour - Comet",
                  "Pickled Gherkins Sliced 300g",
                  "2"
                ],
                [
                  "45",
                  "Carrefour - Comet",
                  "Pickled Gherkins Sliced 700g",
                  "1"
                ],
                [
                  "46",
                  "Carrefour - Comet",
                  "Pizza Sauce Hot 330g",
                  "2"
                ],
                [
                  "47",
                  "Carrefour - Comet",
                  "Pizza Sauce Regular 330g",
                  "1"
                ],
                [
                  "48",
                  "Carrefour - Comet",
                  "Premium Honey 300g",
                  "3"
                ],
                [
                  "49",
                  "Carrefour - Comet",
                  "Rocket Pesto 190g",
                  "2"
                ]
              ],
              "shape": {
                "columns": 3,
                "rows": 5000
              }
            },
            "text/html": [
              "<div>\n",
              "<style scoped>\n",
              "    .dataframe tbody tr th:only-of-type {\n",
              "        vertical-align: middle;\n",
              "    }\n",
              "\n",
              "    .dataframe tbody tr th {\n",
              "        vertical-align: top;\n",
              "    }\n",
              "\n",
              "    .dataframe thead th {\n",
              "        text-align: right;\n",
              "    }\n",
              "</style>\n",
              "<table border=\"1\" class=\"dataframe\">\n",
              "  <thead>\n",
              "    <tr style=\"text-align: right;\">\n",
              "      <th></th>\n",
              "      <th>customer</th>\n",
              "      <th>product</th>\n",
              "      <th>rating</th>\n",
              "    </tr>\n",
              "  </thead>\n",
              "  <tbody>\n",
              "    <tr>\n",
              "      <th>0</th>\n",
              "      <td>Carrefour - Comet</td>\n",
              "      <td>1000 Island Dressing  250gms</td>\n",
              "      <td>2</td>\n",
              "    </tr>\n",
              "    <tr>\n",
              "      <th>1</th>\n",
              "      <td>Carrefour - Comet</td>\n",
              "      <td>Barbecue Sauce 400 gms</td>\n",
              "      <td>5</td>\n",
              "    </tr>\n",
              "    <tr>\n",
              "      <th>2</th>\n",
              "      <td>Carrefour - Comet</td>\n",
              "      <td>Barbecue Sauce 700gm</td>\n",
              "      <td>1</td>\n",
              "    </tr>\n",
              "    <tr>\n",
              "      <th>3</th>\n",
              "      <td>Carrefour - Comet</td>\n",
              "      <td>Barbecue Sauce Honey 700g</td>\n",
              "      <td>2</td>\n",
              "    </tr>\n",
              "    <tr>\n",
              "      <th>4</th>\n",
              "      <td>Carrefour - Comet</td>\n",
              "      <td>Barbecue Sauce Smoke 700g</td>\n",
              "      <td>2</td>\n",
              "    </tr>\n",
              "    <tr>\n",
              "      <th>...</th>\n",
              "      <td>...</td>\n",
              "      <td>...</td>\n",
              "      <td>...</td>\n",
              "    </tr>\n",
              "    <tr>\n",
              "      <th>4995</th>\n",
              "      <td>Naivas - Greenspan</td>\n",
              "      <td>Salsa Kachumbari 400 gms</td>\n",
              "      <td>5</td>\n",
              "    </tr>\n",
              "    <tr>\n",
              "      <th>4996</th>\n",
              "      <td>Naivas - Greenspan</td>\n",
              "      <td>Spaghetti Bolognaise 330g</td>\n",
              "      <td>3</td>\n",
              "    </tr>\n",
              "    <tr>\n",
              "      <th>4997</th>\n",
              "      <td>Naivas - Greenspan</td>\n",
              "      <td>Spaghetti Bolognaise 375g</td>\n",
              "      <td>5</td>\n",
              "    </tr>\n",
              "    <tr>\n",
              "      <th>4998</th>\n",
              "      <td>Naivas - Greenspan</td>\n",
              "      <td>Spaghetti Bolognaise Sauce 530g</td>\n",
              "      <td>5</td>\n",
              "    </tr>\n",
              "    <tr>\n",
              "      <th>4999</th>\n",
              "      <td>Naivas - Greenspan</td>\n",
              "      <td>Spaghetti Sauce 330g</td>\n",
              "      <td>3</td>\n",
              "    </tr>\n",
              "  </tbody>\n",
              "</table>\n",
              "<p>5000 rows × 3 columns</p>\n",
              "</div>"
            ],
            "text/plain": [
              "                 customer                          product  rating\n",
              "0       Carrefour - Comet     1000 Island Dressing  250gms       2\n",
              "1       Carrefour - Comet           Barbecue Sauce 400 gms       5\n",
              "2       Carrefour - Comet             Barbecue Sauce 700gm       1\n",
              "3       Carrefour - Comet        Barbecue Sauce Honey 700g       2\n",
              "4       Carrefour - Comet        Barbecue Sauce Smoke 700g       2\n",
              "...                   ...                              ...     ...\n",
              "4995  Naivas - Greenspan          Salsa Kachumbari 400 gms       5\n",
              "4996  Naivas - Greenspan         Spaghetti Bolognaise 330g       3\n",
              "4997  Naivas - Greenspan         Spaghetti Bolognaise 375g       5\n",
              "4998  Naivas - Greenspan   Spaghetti Bolognaise Sauce 530g       5\n",
              "4999  Naivas - Greenspan              Spaghetti Sauce 330g       3\n",
              "\n",
              "[5000 rows x 3 columns]"
            ]
          },
          "execution_count": 113,
          "metadata": {},
          "output_type": "execute_result"
        }
      ],
      "source": [
        "df.head(5000)"
      ]
    },
    {
      "cell_type": "code",
      "execution_count": 114,
      "metadata": {
        "colab": {
          "base_uri": "https://localhost:8080/",
          "height": 237
        },
        "id": "cGKBxGFlF5GX",
        "outputId": "d4e88f45-cc03-4a62-a2a6-ae93405eb461"
      },
      "outputs": [
        {
          "data": {
            "application/vnd.microsoft.datawrangler.viewer.v0+json": {
              "columns": [
                {
                  "name": "product",
                  "rawType": "object",
                  "type": "string"
                },
                {
                  "name": "avg_rating",
                  "rawType": "float64",
                  "type": "float"
                },
                {
                  "name": "rating_count",
                  "rawType": "int64",
                  "type": "integer"
                }
              ],
              "conversionMethod": "pd.DataFrame",
              "ref": "ecf55fc8-fea7-42ff-a7e2-064474224e31",
              "rows": [
                [
                  "Tomato Ketchup 400gms",
                  "4.747474747474747",
                  "198"
                ],
                [
                  "Tomato Ketchup 700gms",
                  "4.635869565217392",
                  "184"
                ],
                [
                  "Natural Honey 1 KG",
                  "4.590909090909091",
                  "110"
                ],
                [
                  "Barbecue Sauce 400 gms",
                  "4.541871921182266",
                  "203"
                ],
                [
                  "Pickled Gherkins 700g",
                  "4.535433070866142",
                  "127"
                ]
              ],
              "shape": {
                "columns": 2,
                "rows": 5
              }
            },
            "text/html": [
              "<div>\n",
              "<style scoped>\n",
              "    .dataframe tbody tr th:only-of-type {\n",
              "        vertical-align: middle;\n",
              "    }\n",
              "\n",
              "    .dataframe tbody tr th {\n",
              "        vertical-align: top;\n",
              "    }\n",
              "\n",
              "    .dataframe thead th {\n",
              "        text-align: right;\n",
              "    }\n",
              "</style>\n",
              "<table border=\"1\" class=\"dataframe\">\n",
              "  <thead>\n",
              "    <tr style=\"text-align: right;\">\n",
              "      <th></th>\n",
              "      <th>avg_rating</th>\n",
              "      <th>rating_count</th>\n",
              "    </tr>\n",
              "    <tr>\n",
              "      <th>product</th>\n",
              "      <th></th>\n",
              "      <th></th>\n",
              "    </tr>\n",
              "  </thead>\n",
              "  <tbody>\n",
              "    <tr>\n",
              "      <th>Tomato Ketchup 400gms</th>\n",
              "      <td>4.747475</td>\n",
              "      <td>198</td>\n",
              "    </tr>\n",
              "    <tr>\n",
              "      <th>Tomato Ketchup 700gms</th>\n",
              "      <td>4.635870</td>\n",
              "      <td>184</td>\n",
              "    </tr>\n",
              "    <tr>\n",
              "      <th>Natural Honey 1 KG</th>\n",
              "      <td>4.590909</td>\n",
              "      <td>110</td>\n",
              "    </tr>\n",
              "    <tr>\n",
              "      <th>Barbecue Sauce 400 gms</th>\n",
              "      <td>4.541872</td>\n",
              "      <td>203</td>\n",
              "    </tr>\n",
              "    <tr>\n",
              "      <th>Pickled Gherkins 700g</th>\n",
              "      <td>4.535433</td>\n",
              "      <td>127</td>\n",
              "    </tr>\n",
              "  </tbody>\n",
              "</table>\n",
              "</div>"
            ],
            "text/plain": [
              "                        avg_rating  rating_count\n",
              "product                                         \n",
              "Tomato Ketchup 400gms     4.747475           198\n",
              "Tomato Ketchup 700gms     4.635870           184\n",
              "Natural Honey 1 KG        4.590909           110\n",
              "Barbecue Sauce 400 gms    4.541872           203\n",
              "Pickled Gherkins 700g     4.535433           127"
            ]
          },
          "execution_count": 114,
          "metadata": {},
          "output_type": "execute_result"
        }
      ],
      "source": [
        "# Calculate the average rating for each product\n",
        "#average_rating = df_final[rating].mean()\n",
        "average_rating = df.groupby('product')['rating'].mean()\n",
        "\n",
        "# Calculate the count of ratings for each product\n",
        "count_rating = df.groupby('product')['rating'].count()\n",
        "\n",
        "# Create a dataframe with calculated average and count of ratings\n",
        "final_rating = pd.DataFrame({'avg_rating': average_rating, 'rating_count': count_rating})\n",
        "\n",
        "# Sort the dataframe by average of ratings in the descending order\n",
        "final_rating = final_rating.sort_values('avg_rating', ascending = False)\n",
        "\n",
        "# See the first five records of the \"final_rating\" dataset\n",
        "final_rating.head()"
      ]
    },
    {
      "cell_type": "code",
      "execution_count": 115,
      "metadata": {
        "id": "JwkTTvLOF5Sz"
      },
      "outputs": [],
      "source": [
        "# Defining a function to get the top n products based on the highest average rating and minimum interactions\n",
        "\n",
        "def top_n_products(final_rating, n, min_interaction):\n",
        "\n",
        "    # Finding products with minimum number of interactions\n",
        "    recommendations =  final_rating[final_rating['rating_count'] > min_interaction]\n",
        "\n",
        "    # Sorting values with respect to average rating\n",
        "    recommendations = recommendations.sort_values(by = 'avg_rating', ascending = False)\n",
        "\n",
        "    return recommendations.index[:n]"
      ]
    },
    {
      "cell_type": "markdown",
      "metadata": {
        "id": "FE3zyx9QGJmz"
      },
      "source": [
        "Recommending top 5 products with 50 minimum interactions based on popularity\n"
      ]
    },
    {
      "cell_type": "code",
      "execution_count": 116,
      "metadata": {
        "colab": {
          "base_uri": "https://localhost:8080/"
        },
        "id": "REu4dVIrGI6s",
        "outputId": "38df65cd-53bf-49e0-cdd9-d7de21e38cc6"
      },
      "outputs": [
        {
          "data": {
            "text/plain": [
              "['Tomato Ketchup 400gms',\n",
              " 'Tomato Ketchup 700gms',\n",
              " 'Natural Honey 1 KG',\n",
              " 'Barbecue Sauce 400 gms',\n",
              " 'Pickled Gherkins 700g']"
            ]
          },
          "execution_count": 116,
          "metadata": {},
          "output_type": "execute_result"
        }
      ],
      "source": [
        "list(top_n_products(final_rating, 5, 50))"
      ]
    },
    {
      "cell_type": "code",
      "execution_count": 117,
      "metadata": {
        "colab": {
          "base_uri": "https://localhost:8080/"
        },
        "id": "4Gn7IcFOGcVK",
        "outputId": "e002b7e2-210d-4b01-b3e8-017e03847591"
      },
      "outputs": [
        {
          "data": {
            "text/plain": [
              "['Tomato Ketchup 400gms',\n",
              " 'Tomato Ketchup 700gms',\n",
              " 'Natural Honey 1 KG',\n",
              " 'Barbecue Sauce 400 gms',\n",
              " 'Pickled Gherkins 700g']"
            ]
          },
          "execution_count": 117,
          "metadata": {},
          "output_type": "execute_result"
        }
      ],
      "source": [
        "list(top_n_products(final_rating, 5, 100))"
      ]
    },
    {
      "cell_type": "markdown",
      "metadata": {
        "id": "89i5UnFCGjPt"
      },
      "source": [
        "Model 2: Collaborative Filtering Recommendation\n",
        "System"
      ]
    },
    {
      "cell_type": "code",
      "execution_count": 118,
      "metadata": {
        "colab": {
          "base_uri": "https://localhost:8080/",
          "height": 1000
        },
        "id": "17JMWfQ-GcYq",
        "outputId": "1a9622bd-5470-4e8d-dc2e-8ff9a9a03e1f"
      },
      "outputs": [],
      "source": [
        "# To compute the accuracy of models\n",
        "from surprise import accuracy\n",
        "\n",
        "# Class is used to parse a file containing ratings, data should be in structure - user ; item ; rating\n",
        "from surprise.reader import Reader\n",
        "\n",
        "# Class for loading datasets\n",
        "from surprise.dataset import Dataset\n",
        "\n",
        "# For tuning model hyperparameters\n",
        "from surprise.model_selection import GridSearchCV\n",
        "\n",
        "# For splitting the rating data in train and test datasets\n",
        "from surprise.model_selection import train_test_split\n",
        "\n",
        "# For implementing similarity-based recommendation system\n",
        "from surprise.prediction_algorithms.knns import KNNBasic\n",
        "\n",
        "# For implementing matrix factorization based recommendation system\n",
        "from surprise.prediction_algorithms.matrix_factorization import SVD\n",
        "\n",
        "# for implementing K-Fold cross-validation\n",
        "from surprise.model_selection import KFold\n",
        "\n",
        "# For implementing clustering-based recommendation system\n",
        "from surprise import CoClustering"
      ]
    },
    {
      "cell_type": "code",
      "execution_count": 119,
      "metadata": {
        "id": "3QG0tb0_Gz7j"
      },
      "outputs": [],
      "source": [
        "def precision_recall_at_k(model, k = 10, threshold = 3.5):\n",
        "    \"\"\"Return precision and recall at k metrics for each user\"\"\"\n",
        "\n",
        "    # First map the predictions to each user\n",
        "    user_est_true = defaultdict(list)\n",
        "\n",
        "    # Making predictions on the test data\n",
        "    predictions = model.test(testset)\n",
        "\n",
        "    for uid, _, true_r, est, _ in predictions:\n",
        "        user_est_true[uid].append((est, true_r))\n",
        "\n",
        "    precisions = dict()\n",
        "    recalls = dict()\n",
        "    for uid, user_ratings in user_est_true.items():\n",
        "\n",
        "        # Sort user ratings by estimated value\n",
        "        user_ratings.sort(key = lambda x: x[0], reverse = True)\n",
        "\n",
        "        # Number of relevant items\n",
        "        n_rel = sum((true_r >= threshold) for (_, true_r) in user_ratings)\n",
        "\n",
        "        # Number of recommended items in top k\n",
        "        n_rec_k = sum((est >= threshold) for (est, _) in user_ratings[:k])\n",
        "\n",
        "        # Number of relevant and recommended items in top k\n",
        "        n_rel_and_rec_k = sum(((true_r >= threshold) and (est >= threshold))\n",
        "                              for (est, true_r) in user_ratings[:k])\n",
        "\n",
        "        # Precision@K: Proportion of recommended items that are relevant\n",
        "        # When n_rec_k is 0, Precision is undefined. Therefore, we are setting Precision to 0 when n_rec_k is 0\n",
        "\n",
        "        precisions[uid] = n_rel_and_rec_k / n_rec_k if n_rec_k != 0 else 0\n",
        "\n",
        "        # Recall@K: Proportion of relevant items that are recommended\n",
        "        # When n_rel is 0, Recall is undefined. Therefore, we are setting Recall to 0 when n_rel is 0\n",
        "\n",
        "        recalls[uid] = n_rel_and_rec_k / n_rel if n_rel != 0 else 0\n",
        "\n",
        "    # Mean of all the predicted precisions are calculated.\n",
        "    precision = round((sum(prec for prec in precisions.values()) / len(precisions)), 3)\n",
        "\n",
        "    # Mean of all the predicted recalls are calculated.\n",
        "    recall = round((sum(rec for rec in recalls.values()) / len(recalls)), 3)\n",
        "\n",
        "    accuracy.rmse(predictions)\n",
        "\n",
        "    print('Precision: ', precision) # Command to print the overall precision\n",
        "\n",
        "    print('Recall: ', recall) # Command to print the overall recall\n",
        "\n",
        "    print('F_1 score: ', round((2*precision*recall)/(precision+recall), 3)) # Formula to compute the F-1 score"
      ]
    },
    {
      "cell_type": "code",
      "execution_count": 120,
      "metadata": {
        "colab": {
          "base_uri": "https://localhost:8080/",
          "height": 211
        },
        "id": "1xK35BrlG6h8",
        "outputId": "b8063c97-f3c5-4804-cdcd-fa6dad7c749e"
      },
      "outputs": [],
      "source": [
        "# Instantiating Reader scale with expected rating scale\n",
        "reader = Reader(rating_scale = (0, 5))\n",
        "\n",
        "# Loading the rating dataset\n",
        "data = Dataset.load_from_df(df[['customer', 'product', 'rating']], reader)\n",
        "\n",
        "# Splitting the data into train and test datasets\n",
        "trainset, testset = train_test_split(data, test_size = 0.2, random_state = 42)"
      ]
    },
    {
      "cell_type": "code",
      "execution_count": 121,
      "metadata": {
        "colab": {
          "base_uri": "https://localhost:8080/",
          "height": 245
        },
        "id": "aGlgUW90HAMl",
        "outputId": "a4ddb88c-2713-42ca-aaed-ae68d3bd3e8c"
      },
      "outputs": [
        {
          "name": "stdout",
          "output_type": "stream",
          "text": [
            "RMSE: 1.3657\n",
            "Precision:  0.663\n",
            "Recall:  0.768\n",
            "F_1 score:  0.712\n"
          ]
        }
      ],
      "source": [
        "# Declaring the similarity options\n",
        "sim_options = {'name': 'cosine',\n",
        "               'user_based': True}\n",
        "\n",
        "# Initialize the KNNBasic model using sim_options provided, Verbose = False, and setting random_state = 1\n",
        "sim_user_user = KNNBasic(sim_options = sim_options, verbose = False, random_state = 1)\n",
        "\n",
        "# Fit the model on the training data\n",
        "sim_user_user.fit(trainset)\n",
        "\n",
        "# Let us compute precision@k, recall@k, and f_1 score using the precision_recall_at_k function defined above\n",
        "precision_recall_at_k(sim_user_user)"
      ]
    },
    {
      "cell_type": "code",
      "execution_count": 122,
      "metadata": {
        "colab": {
          "base_uri": "https://localhost:8080/",
          "height": 176
        },
        "id": "BqrIl7O-HAPh",
        "outputId": "524ed380-c0e6-4da2-840e-c02ae8721538"
      },
      "outputs": [
        {
          "name": "stdout",
          "output_type": "stream",
          "text": [
            "user: Carrefour - Comet item: Tomato Ketchup 400gms r_ui = 4.00   est = 4.87   {'actual_k': 40, 'was_impossible': False}\n"
          ]
        },
        {
          "data": {
            "text/plain": [
              "Prediction(uid='Carrefour - Comet', iid='Tomato Ketchup 400gms', r_ui=4, est=4.874315509538255, details={'actual_k': 40, 'was_impossible': False})"
            ]
          },
          "execution_count": 122,
          "metadata": {},
          "output_type": "execute_result"
        }
      ],
      "source": [
        "# Predicting rating for a sample user with an interacted product\n",
        "sim_user_user.predict(\"Carrefour - Comet\", \"Tomato Ketchup 400gms\", r_ui = 4, verbose = True)"
      ]
    },
    {
      "cell_type": "code",
      "execution_count": 123,
      "metadata": {
        "colab": {
          "base_uri": "https://localhost:8080/",
          "height": 547
        },
        "id": "QouXYGd3HAS4",
        "outputId": "7a1b074a-83b1-4f8e-c438-ab6f71d824a6"
      },
      "outputs": [],
      "source": [
        "# df[df.product != \"Barbecue Sauce Honey 250gms\"].customer.unique()"
      ]
    },
    {
      "cell_type": "code",
      "execution_count": 124,
      "metadata": {
        "colab": {
          "base_uri": "https://localhost:8080/"
        },
        "id": "kS_i-SUMHAWC",
        "outputId": "e3772f11-5e7c-4f09-919f-d664f9d000bf"
      },
      "outputs": [
        {
          "name": "stdout",
          "output_type": "stream",
          "text": [
            "1.1977626694828771\n",
            "{'k': 20, 'min_k': 3, 'sim_options': {'name': 'msd', 'user_based': True}}\n"
          ]
        }
      ],
      "source": [
        "# Setting up parameter grid to tune the hyperparameters\n",
        "param_grid = {'k': [20, 30, 40], 'min_k': [3, 6, 9],\n",
        "              'sim_options': {'name': ['msd', 'cosine'],\n",
        "                              'user_based': [True]}\n",
        "              }\n",
        "\n",
        "# Performing 3-fold cross-validation to tune the hyperparameters\n",
        "gs = GridSearchCV(KNNBasic, param_grid, measures = ['rmse'], cv = 3, n_jobs = -1)\n",
        "\n",
        "# Fitting the data\n",
        "gs.fit(data)\n",
        "\n",
        "# Best RMSE score\n",
        "print(gs.best_score['rmse'])\n",
        "\n",
        "# Combination of parameters that gave the best RMSE score\n",
        "print(gs.best_params['rmse'])"
      ]
    },
    {
      "cell_type": "code",
      "execution_count": 125,
      "metadata": {
        "colab": {
          "base_uri": "https://localhost:8080/"
        },
        "id": "3yzwZqkUHAZM",
        "outputId": "a2d3f7f8-8b4c-4c2e-80d1-985723094be7"
      },
      "outputs": [
        {
          "name": "stdout",
          "output_type": "stream",
          "text": [
            "RMSE: 1.1442\n",
            "Precision:  0.682\n",
            "Recall:  0.713\n",
            "F_1 score:  0.697\n"
          ]
        }
      ],
      "source": [
        "# Using the optimal similarity measure for user-user based collaborative filtering\n",
        "sim_options = {'name': 'msd',\n",
        "               'user_based': True}\n",
        "\n",
        "# Creating an instance of KNNBasic with optimal hyperparameter values\n",
        "sim_user_user_optimized = KNNBasic(sim_options = sim_options, k = 20, min_k = 3, random_state = 1, verbose = False)\n",
        "\n",
        "# Training the algorithm on the train set\n",
        "sim_user_user_optimized.fit(trainset)\n",
        "\n",
        "# Let us compute precision@k and recall@k also with k =10\n",
        "precision_recall_at_k(sim_user_user_optimized)"
      ]
    },
    {
      "cell_type": "code",
      "execution_count": 126,
      "metadata": {
        "colab": {
          "base_uri": "https://localhost:8080/"
        },
        "id": "Ci6DKPwwI6nI",
        "outputId": "e434b5e8-f4f2-4450-8d85-8adbc7ef625d"
      },
      "outputs": [
        {
          "name": "stdout",
          "output_type": "stream",
          "text": [
            "user: Carrefour - Comet item: Tomato Ketchup 400gms r_ui = None   est = 4.87   {'actual_k': 40, 'was_impossible': False}\n"
          ]
        },
        {
          "data": {
            "text/plain": [
              "Prediction(uid='Carrefour - Comet', iid='Tomato Ketchup 400gms', r_ui=None, est=4.874315509538255, details={'actual_k': 40, 'was_impossible': False})"
            ]
          },
          "execution_count": 126,
          "metadata": {},
          "output_type": "execute_result"
        }
      ],
      "source": [
        "# Use sim_user_user_optimized model to recommend for userId \"A3LDPF5FMB782Z\" and productId 1400501466\n",
        "sim_user_user.predict(\"Carrefour - Comet\", \"Tomato Ketchup 400gms\", verbose = True)"
      ]
    },
    {
      "cell_type": "code",
      "execution_count": 127,
      "metadata": {
        "colab": {
          "base_uri": "https://localhost:8080/"
        },
        "id": "emGk2nZkJAvR",
        "outputId": "02c82a2a-39e2-44a8-f582-dd0fb90fe8d4"
      },
      "outputs": [
        {
          "name": "stdout",
          "output_type": "stream",
          "text": [
            "user: Carrefour - Diani item: Tomato Ketchup 400gms r_ui = None   est = 4.67   {'actual_k': 40, 'was_impossible': False}\n"
          ]
        },
        {
          "data": {
            "text/plain": [
              "Prediction(uid='Carrefour - Diani', iid='Tomato Ketchup 400gms', r_ui=None, est=4.665647181135282, details={'actual_k': 40, 'was_impossible': False})"
            ]
          },
          "execution_count": 127,
          "metadata": {},
          "output_type": "execute_result"
        }
      ],
      "source": [
        "# Use sim_user_user_optimized model to recommend for userId \"A34BZM6S9L7QI4\" and productId \"1400501466\"\n",
        "sim_user_user.predict(\"Carrefour - Diani\", \"Tomato Ketchup 400gms\", verbose = True)"
      ]
    },
    {
      "cell_type": "code",
      "execution_count": 128,
      "metadata": {
        "colab": {
          "base_uri": "https://localhost:8080/"
        },
        "id": "PXRwilUFJGV0",
        "outputId": "f4a8fb80-dd6b-4e6b-a7ec-38f0c4c3f053"
      },
      "outputs": [
        {
          "data": {
            "text/plain": [
              "[210, 101, 184, 118, 90]"
            ]
          },
          "execution_count": 128,
          "metadata": {},
          "output_type": "execute_result"
        }
      ],
      "source": [
        "sim_user_user_optimized.get_neighbors(0, 5)"
      ]
    },
    {
      "cell_type": "markdown",
      "metadata": {
        "id": "J4Qy4UveJYd1"
      },
      "source": [
        "Implementing the recommendation algorithm based on optimized KNNBasic model\n"
      ]
    },
    {
      "cell_type": "code",
      "execution_count": 129,
      "metadata": {
        "id": "uyAqKQaJJQYE"
      },
      "outputs": [],
      "source": [
        "def get_recommendations(data, customer, top_n, algo):\n",
        "\n",
        "    # Creating an empty list to store the recommended product ids\n",
        "    recommendations = []\n",
        "\n",
        "    # Creating an user item interactions matrix\n",
        "    user_item_interactions_matrix = data.pivot(index = 'customer', columns = 'product', values = 'rating')\n",
        "\n",
        "    # Extracting those product ids which the user_id has not interacted yet\n",
        "    non_interacted_products = user_item_interactions_matrix.loc[customer][user_item_interactions_matrix.loc[customer].isnull()].index.tolist()\n",
        "\n",
        "    # Looping through each of the product ids which user_id has not interacted yet\n",
        "    for product in non_interacted_products:\n",
        "\n",
        "        # Predicting the ratings for those non interacted product ids by this user\n",
        "        est = algo.predict(customer, product).est\n",
        "\n",
        "        # Appending the predicted ratings\n",
        "        recommendations.append((product, est))\n",
        "\n",
        "    # Sorting the predicted ratings in descending order\n",
        "    recommendations.sort(key = lambda x: x[1], reverse = True)\n",
        "\n",
        "    return recommendations[:top_n] # Returing top n highest predicted rating products for this user"
      ]
    },
    {
      "cell_type": "code",
      "execution_count": 130,
      "metadata": {},
      "outputs": [
        {
          "name": "stdout",
          "output_type": "stream",
          "text": [
            "False\n"
          ]
        }
      ],
      "source": [
        "print(\"Sam West Distributors\" in df[\"customer\"].unique())\n"
      ]
    },
    {
      "cell_type": "code",
      "execution_count": 131,
      "metadata": {},
      "outputs": [
        {
          "name": "stdout",
          "output_type": "stream",
          "text": [
            "Closest match found: Quickmart - Mtwapa Express\n",
            "\n",
            "Top Recommendations:\n",
            "                                product  predicted_ratings user_input\n",
            "0           Barbecue Sauce Honey 250gms           4.741012     Mtwapa\n",
            "1             Barbecue Sauce Honey 700g           4.599045     Mtwapa\n",
            "2                 Tomato Ketchup 250gms           4.553056     Mtwapa\n",
            "3                Asili Pishori Rice 1KG           4.374203     Mtwapa\n",
            "4                Pasta Sauce Basil 375g           4.325367     Mtwapa\n",
            "5  Sweet and Sticky Barbecue Sauce 700g           4.187611     Mtwapa\n",
            "6                Asili Pishori Rice 2KG           4.140709     Mtwapa\n",
            "7                     Natural Honey 2kg           4.111984     Mtwapa\n",
            "8             Barbecue Sauce Smoke 700g           3.894643     Mtwapa\n",
            "9                 Corriander Pesto 190g           3.841510     Mtwapa\n"
          ]
        }
      ],
      "source": [
        "# Import fuzzy matching function\n",
        "from fuzzywuzzy import process  # Use: pip install fuzzywuzzy (or use rapidfuzz for better performance)\n",
        "\n",
        "# Function to find the closest match\n",
        "def get_best_match(query, customer_list):\n",
        "    match, score = process.extractOne(query, customer_list)\n",
        "    return match if score > 80 else None  # Adjust threshold if needed\n",
        "\n",
        "# Prompt the user for input\n",
        "user_input = input(\"Enter a location (e.g., 'Mtwapa'): \").strip()\n",
        "\n",
        "# Find the best match\n",
        "customer_name = get_best_match(user_input, df[\"customer\"].unique())\n",
        "\n",
        "if customer_name:\n",
        "    print(f\"Closest match found: {customer_name}\")  # Notify match found\n",
        "    recommendations = get_recommendations(df, customer_name, 10, sim_user_user_optimized)\n",
        "\n",
        "    # Convert to DataFrame and include user input\n",
        "    recommendations_df = pd.DataFrame(recommendations, columns=['product', 'predicted_ratings'])\n",
        "    recommendations_df[\"user_input\"] = user_input  # Add user input column\n",
        "\n",
        "    print(\"\\nTop Recommendations:\")\n",
        "    print(recommendations_df)  # Display DataFrame\n",
        "else:\n",
        "    print(\"No close match found.\")\n"
      ]
    },
    {
      "cell_type": "code",
      "execution_count": 132,
      "metadata": {
        "colab": {
          "base_uri": "https://localhost:8080/",
          "height": 547
        },
        "id": "c7XBKEANJikA",
        "outputId": "d5dcba3c-fc8c-4eb6-bc47-eb82b0fdbd1d"
      },
      "outputs": [],
      "source": [
        "# # Making top 5 recommendations for user_id \"A3LDPF5FMB782Z\" with a similarity-based recommendation engine\n",
        "# recommendations = get_recommendations(df, \"Sam West Distributors\", 10, sim_user_user_optimized)"
      ]
    },
    {
      "cell_type": "markdown",
      "metadata": {},
      "source": [
        "#### Cosine Similarity"
      ]
    },
    {
      "cell_type": "code",
      "execution_count": 133,
      "metadata": {},
      "outputs": [
        {
          "name": "stdout",
          "output_type": "stream",
          "text": [
            "RMSE: 1.4621\n",
            "Precision:  0.432\n",
            "Recall:  0.515\n",
            "F_1 score:  0.47\n"
          ]
        }
      ],
      "source": [
        "# Declaring the similarity options\n",
        "sim_options = {'name': 'cosine',\n",
        "               'user_based': False}\n",
        "\n",
        "# KNN algorithm is used to find desired similar items\n",
        "sim_item_item = KNNBasic(sim_options = sim_options, random_state = 1, verbose = False)\n",
        "\n",
        "# Train the algorithm on the train set, and predict ratings for the test set\n",
        "sim_item_item.fit(trainset)\n",
        "\n",
        "# Let us compute precision@k, recall@k, and f_1 score with k = 10\n",
        "precision_recall_at_k(sim_item_item)"
      ]
    },
    {
      "cell_type": "code",
      "execution_count": 134,
      "metadata": {},
      "outputs": [
        {
          "name": "stdout",
          "output_type": "stream",
          "text": [
            "Known Users: range(0, 217)\n"
          ]
        }
      ],
      "source": [
        "# Checking if the user is in the training model\n",
        "print(\"Known Users:\", trainset.all_users())  # Print list of known user indices"
      ]
    },
    {
      "cell_type": "code",
      "execution_count": 135,
      "metadata": {},
      "outputs": [
        {
          "name": "stdout",
          "output_type": "stream",
          "text": [
            "Known Items: range(0, 147)\n"
          ]
        }
      ],
      "source": [
        "# Checking if the item is in the training model\n",
        "print(\"Known Items:\", trainset.all_items())  # Print list of known item indices"
      ]
    },
    {
      "cell_type": "code",
      "execution_count": 136,
      "metadata": {},
      "outputs": [
        {
          "name": "stdout",
          "output_type": "stream",
          "text": [
            "user: Carrefour  item: Barbecue Sauce Honey 250gms r_ui = 5.00   est = 3.60   {'was_impossible': True, 'reason': 'User and/or item is unknown.'}\n"
          ]
        },
        {
          "data": {
            "text/plain": [
              "Prediction(uid='Carrefour', iid='Barbecue Sauce Honey 250gms', r_ui=5, est=3.595969647966165, details={'was_impossible': True, 'reason': 'User and/or item is unknown.'})"
            ]
          },
          "execution_count": 136,
          "metadata": {},
          "output_type": "execute_result"
        }
      ],
      "source": [
        "input_customer_name = input(\"Enter customer name: \")\n",
        "sim_item_item.predict(input_customer_name, \"Barbecue Sauce Honey 250gms\", r_ui=5, verbose=True)"
      ]
    },
    {
      "cell_type": "code",
      "execution_count": 137,
      "metadata": {},
      "outputs": [
        {
          "name": "stdout",
          "output_type": "stream",
          "text": [
            "Known Users: [0, 1, 2, 3, 4, 5, 6, 7, 8, 9]\n",
            "Known Items: [0, 1, 2, 3, 4, 5, 6, 7, 8, 9]\n"
          ]
        }
      ],
      "source": [
        "# Get all known user indices\n",
        "known_users = list(trainset.all_users())\n",
        "\n",
        "# Get all known item indices\n",
        "known_items = list(trainset.all_items())\n",
        "\n",
        "print(\"Known Users:\", known_users[:10])  # Print first 10 users\n",
        "print(\"Known Items:\", known_items[:10])  # Print first 10 items\n"
      ]
    },
    {
      "cell_type": "code",
      "execution_count": 138,
      "metadata": {},
      "outputs": [
        {
          "name": "stdout",
          "output_type": "stream",
          "text": [
            "Sample Users: ['Carrefour - Diani', 'Naivas - Mwembe Tayari', 'Naivas - Ukunda ', 'Quickmart - Kileleshwa', 'Chandarana - Lavington', 'Naivas - Kilimani', 'QuickMart - Eastern By Pass', 'QuickMart - Westlands ', 'QuickMart - Eldoret', 'Chandarana - Nyali']\n",
            "Sample Items: ['Basil Pesto 180g', 'Barbecue Sauce Honey 250gms', 'Spaghetti Sauce 530g', 'Pizza Sauce Regular 330g', 'Pasta Sauce Basil 530g', 'Pasta Sauce Mushroom 330gms', 'Spaghetti Sauce 375g', 'Pasta Sauce Basil 375g', 'Pizza Sauce Hot 330g', 'Barbeque Sauce with Honey 400g']\n"
          ]
        }
      ],
      "source": [
        "# Mapping from internal user index to original name\n",
        "original_users = [trainset.to_raw_uid(uid) for uid in trainset.all_users()]\n",
        "original_items = [trainset.to_raw_iid(iid) for iid in trainset.all_items()]\n",
        "\n",
        "print(\"Sample Users:\", original_users[:10])  # Print first 10 users\n",
        "print(\"Sample Items:\", original_items[:10])  # Print first 10 items\n"
      ]
    },
    {
      "cell_type": "code",
      "execution_count": null,
      "metadata": {},
      "outputs": [],
      "source": [
        "    # from fuzzywuzzy import process  # Use rapidfuzz for better performance\n",
        "\n",
        "    # # Function to find the closest match\n",
        "    # def get_best_match(query, choices):\n",
        "    #     match, score = process.extractOne(query, choices)\n",
        "    #     return match if score > 80 else None  # Adjust threshold if needed\n",
        "\n",
        "    # # Prompt user for location and item\n",
        "    # input_location = input(\"Enter a location (e.g., 'Ukunda'): \").strip()\n",
        "    # input_item = input(\"Enter an item (e.g., 'Barbecue Sauce'): \").strip()\n",
        "\n",
        "    # # Get best match for location and item\n",
        "    # matched_location = get_best_match(input_location, df[\"customer\"].unique())\n",
        "    # matched_item = get_best_match(input_item, df[\"product\"].unique())\n",
        "\n",
        "    # # Check if we found valid matches\n",
        "    # if matched_location:\n",
        "    #     print(f\"Closest location match found: {matched_location}\")\n",
        "    # else:\n",
        "    #     print(\"No close location match found.\")\n",
        "\n",
        "    # if matched_item:\n",
        "    #     print(f\"Closest item match found: {matched_item}\")\n",
        "    # else:\n",
        "    #     print(\"No close item match found.\")\n",
        "\n",
        "    # # Convert to inner IDs if matches exist\n",
        "    # if matched_location:\n",
        "    #     try:\n",
        "    #         user_inner_id = trainset.to_inner_uid(matched_location)\n",
        "    #         print(f\"User Inner ID: {user_inner_id}\")\n",
        "    #     except ValueError:\n",
        "    #         print(\"User not found in training data.\")\n",
        "\n",
        "    # if matched_item:\n",
        "    #     try:\n",
        "    #         item_inner_id = trainset.to_inner_iid(matched_item)\n",
        "    #         print(f\"Item Inner ID: {item_inner_id}\")\n",
        "    #     except ValueError:\n",
        "    #         print(\"Item not found in training data.\")\n"
      ]
    },
    {
      "cell_type": "code",
      "execution_count": 140,
      "metadata": {},
      "outputs": [],
      "source": [
        "# from fuzzywuzzy import process  # Use rapidfuzz for better performance\n",
        "\n",
        "# # Function to find the closest match\n",
        "# def get_best_match(query, choices):\n",
        "#     match, score = process.extractOne(query, choices)\n",
        "#     return match if score > 80 else None  # Adjust threshold if needed\n",
        "\n",
        "# # Prompt user for location and item\n",
        "# input_location = input(\"Enter a customer location (e.g., 'Ukunda'): \").strip()\n",
        "# input_item = input(\"Enter a product (e.g., 'Barbecue Sauce'): \").strip()\n",
        "\n",
        "# # Get best match for location and item\n",
        "# matched_location = get_best_match(input_location, df[\"customer\"].unique())\n",
        "# matched_item = get_best_match(input_item, df[\"product\"].unique())\n",
        "\n",
        "# # Check if we found valid matches\n",
        "# if matched_location:\n",
        "#     print(f\"Closest customer match found: {matched_location}\")\n",
        "# else:\n",
        "#     print(\"No close customer match found.\")\n",
        "#     matched_location = None\n",
        "\n",
        "# if matched_item:\n",
        "#     print(f\"Closest item match found: {matched_item}\")\n",
        "# else:\n",
        "#     print(\"No close item match found.\")\n",
        "#     matched_item = None\n",
        "\n",
        "# # Proceed with prediction only if both customer and item exist in training data\n",
        "# if matched_location and matched_item:\n",
        "#     try:\n",
        "#         # Check if user exists in training data\n",
        "#         if matched_location in df[\"customer\"].unique():\n",
        "#             user_inner_id = trainset.to_inner_uid(matched_location)\n",
        "#         else:\n",
        "#             raise ValueError(\"User not found in training data.\")\n",
        "\n",
        "#         # Check if item exists in training data\n",
        "#         if matched_item in df[\"product\"].unique():\n",
        "#             item_inner_id = trainset.to_inner_iid(matched_item)\n",
        "#         else:\n",
        "#             raise ValueError(\"Item not found in training data.\")\n",
        "\n",
        "#         # Predict rating\n",
        "#         prediction = sim_item_item.predict(user_inner_id, item_inner_id, r_ui=5, verbose=True)\n",
        "\n",
        "#         # Display the predicted rating\n",
        "#         print(\"\\n🔹 **Prediction Details:**\")\n",
        "#         print(f\"Customer: {matched_location}\")\n",
        "#         print(f\"Product: {matched_item}\")\n",
        "#         print(f\"Actual Rating (r_ui): 5.00\")  # Assuming ground truth rating is 5\n",
        "#         print(f\"Predicted Rating (est): {prediction.est:.2f}\")\n",
        "\n",
        "#     except ValueError as e:\n",
        "#         print(f\"❌ Error: {e}\")\n",
        "\n",
        "# else:\n",
        "#     print(\"\\n⚠️ **Cannot proceed with prediction: User or Item not found.**\")\n"
      ]
    },
    {
      "cell_type": "code",
      "execution_count": 141,
      "metadata": {
        "colab": {
          "base_uri": "https://localhost:8080/"
        },
        "id": "oDE0zC_uMIml",
        "outputId": "93decb94-740d-4569-eb97-647923fcd6dd"
      },
      "outputs": [
        {
          "name": "stdout",
          "output_type": "stream",
          "text": [
            "1.168553355106374\n",
            "{'k': 10, 'min_k': 3, 'sim_options': {'name': 'msd', 'user_based': False}}\n"
          ]
        }
      ],
      "source": [
        "# Setting up parameter grid to tune the hyperparameters\n",
        "param_grid = {'k': [10, 20, 30], 'min_k': [3, 6, 9],\n",
        "              'sim_options': {'name': ['msd', 'cosine'],\n",
        "                              'user_based': [False]}\n",
        "              }\n",
        "\n",
        "# Performing 3-fold cross validation to tune the hyperparameters\n",
        "gs = GridSearchCV(KNNBasic, param_grid, measures = ['rmse'], cv = 3, n_jobs = -1)\n",
        "\n",
        "# Fitting the data\n",
        "gs.fit(data)\n",
        "\n",
        "# Find the best RMSE score\n",
        "print(gs.best_score['rmse'])\n",
        "\n",
        "# Find the combination of parameters that gave the best RMSE score\n",
        "print(gs.best_params['rmse'])"
      ]
    },
    {
      "cell_type": "code",
      "execution_count": 142,
      "metadata": {
        "colab": {
          "base_uri": "https://localhost:8080/"
        },
        "id": "hVCUdgLtMPlT",
        "outputId": "ff029260-051a-4d3f-d8dd-58f7ba8a12c2"
      },
      "outputs": [
        {
          "name": "stdout",
          "output_type": "stream",
          "text": [
            "RMSE: 1.1432\n",
            "Precision:  0.638\n",
            "Recall:  0.672\n",
            "F_1 score:  0.655\n"
          ]
        }
      ],
      "source": [
        "# Using the optimal similarity measure for item-item based collaborative filtering\n",
        "sim_options = {'name': 'msd',\n",
        "               'user_based': False}\n",
        "\n",
        "\n",
        "# Creating an instance of KNNBasic with optimal hyperparameter values\n",
        "sim_item_item_optimized =  KNNBasic(sim_options = sim_options, k = 10, min_k = 3, random_state = 1, verbose = False)\n",
        "\n",
        "# Training the algorithm on the train set\n",
        "sim_item_item_optimized.fit(trainset)\n",
        "\n",
        "# Let us compute precision@k and recall@k, f1_score and RMSE\n",
        "precision_recall_at_k(sim_item_item_optimized)"
      ]
    },
    {
      "cell_type": "markdown",
      "metadata": {
        "id": "pcQQhH-8JbBC"
      },
      "source": [
        "Identifying similar items to a given item (nearest neighbors)\n"
      ]
    },
    {
      "cell_type": "code",
      "execution_count": 143,
      "metadata": {
        "colab": {
          "base_uri": "https://localhost:8080/"
        },
        "id": "uXfKb9aaMcEL",
        "outputId": "b59ed38d-ab1e-4532-e459-01f2e5c2c5ca"
      },
      "outputs": [
        {
          "data": {
            "text/plain": [
              "[146, 17, 43, 55, 142]"
            ]
          },
          "execution_count": 143,
          "metadata": {},
          "output_type": "execute_result"
        }
      ],
      "source": [
        "sim_item_item_optimized.get_neighbors(0, k = 5)"
      ]
    },
    {
      "cell_type": "markdown",
      "metadata": {
        "id": "_qlaqkv7Mw6X"
      },
      "source": [
        "Predicting top 5 products for userId = \"A1A5KUIIIHFF4U\" with similarity based recommendation system.\n"
      ]
    },
    {
      "cell_type": "code",
      "execution_count": 144,
      "metadata": {
        "id": "g4BnueaWMcn2"
      },
      "outputs": [],
      "source": [
        "# Making top 5 recommendations for user_id A1A5KUIIIHFF4U with similarity-based recommendation engine.\n",
        "recommendations = get_recommendations(df, \"Carrefour - Galleria\", 5, sim_item_item_optimized)"
      ]
    },
    {
      "cell_type": "code",
      "execution_count": 145,
      "metadata": {
        "colab": {
          "base_uri": "https://localhost:8080/",
          "height": 206
        },
        "id": "sIxFh0LPMcry",
        "outputId": "8ecc1e3d-1c63-4d1d-8dd5-68ec3d1a88c1"
      },
      "outputs": [
        {
          "data": {
            "application/vnd.microsoft.datawrangler.viewer.v0+json": {
              "columns": [
                {
                  "name": "index",
                  "rawType": "int64",
                  "type": "integer"
                },
                {
                  "name": "prod_id",
                  "rawType": "object",
                  "type": "string"
                },
                {
                  "name": "predicted_ratings",
                  "rawType": "float64",
                  "type": "float"
                }
              ],
              "conversionMethod": "pd.DataFrame",
              "ref": "863ea1e2-e50e-4d97-acb9-8f3f103e6046",
              "rows": [
                [
                  "0",
                  "Tomato Sauce 5kgs",
                  "5.0"
                ],
                [
                  "1",
                  "Barbecue Sauce Smoke 5 Kg",
                  "4.999999999999999"
                ],
                [
                  "2",
                  "Vegeta Chicken cubes",
                  "4.8274929868187115"
                ],
                [
                  "3",
                  "Pickled Gherkins 700G",
                  "4.772151898734177"
                ],
                [
                  "4",
                  "Tomato Ketchup 5 Litres",
                  "4.684210526315789"
                ]
              ],
              "shape": {
                "columns": 2,
                "rows": 5
              }
            },
            "text/html": [
              "<div>\n",
              "<style scoped>\n",
              "    .dataframe tbody tr th:only-of-type {\n",
              "        vertical-align: middle;\n",
              "    }\n",
              "\n",
              "    .dataframe tbody tr th {\n",
              "        vertical-align: top;\n",
              "    }\n",
              "\n",
              "    .dataframe thead th {\n",
              "        text-align: right;\n",
              "    }\n",
              "</style>\n",
              "<table border=\"1\" class=\"dataframe\">\n",
              "  <thead>\n",
              "    <tr style=\"text-align: right;\">\n",
              "      <th></th>\n",
              "      <th>prod_id</th>\n",
              "      <th>predicted_ratings</th>\n",
              "    </tr>\n",
              "  </thead>\n",
              "  <tbody>\n",
              "    <tr>\n",
              "      <th>0</th>\n",
              "      <td>Tomato Sauce 5kgs</td>\n",
              "      <td>5.000000</td>\n",
              "    </tr>\n",
              "    <tr>\n",
              "      <th>1</th>\n",
              "      <td>Barbecue Sauce Smoke 5 Kg</td>\n",
              "      <td>5.000000</td>\n",
              "    </tr>\n",
              "    <tr>\n",
              "      <th>2</th>\n",
              "      <td>Vegeta Chicken cubes</td>\n",
              "      <td>4.827493</td>\n",
              "    </tr>\n",
              "    <tr>\n",
              "      <th>3</th>\n",
              "      <td>Pickled Gherkins 700G</td>\n",
              "      <td>4.772152</td>\n",
              "    </tr>\n",
              "    <tr>\n",
              "      <th>4</th>\n",
              "      <td>Tomato Ketchup 5 Litres</td>\n",
              "      <td>4.684211</td>\n",
              "    </tr>\n",
              "  </tbody>\n",
              "</table>\n",
              "</div>"
            ],
            "text/plain": [
              "                     prod_id  predicted_ratings\n",
              "0          Tomato Sauce 5kgs           5.000000\n",
              "1  Barbecue Sauce Smoke 5 Kg           5.000000\n",
              "2       Vegeta Chicken cubes           4.827493\n",
              "3      Pickled Gherkins 700G           4.772152\n",
              "4    Tomato Ketchup 5 Litres           4.684211"
            ]
          },
          "execution_count": 145,
          "metadata": {},
          "output_type": "execute_result"
        }
      ],
      "source": [
        "# Building the dataframe for above recommendations with columns \"prod_id\" and \"predicted_ratings\"\n",
        "pd.DataFrame(recommendations, columns = ['prod_id', 'predicted_ratings'])"
      ]
    },
    {
      "cell_type": "code",
      "execution_count": 146,
      "metadata": {
        "colab": {
          "base_uri": "https://localhost:8080/"
        },
        "id": "h2JY9L1fNJTh",
        "outputId": "d62dbdbd-f361-4a1d-dcf1-799ca6cf1f16"
      },
      "outputs": [
        {
          "name": "stdout",
          "output_type": "stream",
          "text": [
            "RMSE: 1.1488\n",
            "Precision:  0.677\n",
            "Recall:  0.658\n",
            "F_1 score:  0.667\n"
          ]
        }
      ],
      "source": [
        "# Using SVD matrix factorization. Use random_state = 1\n",
        "svd = SVD(random_state = 1)\n",
        "\n",
        "# Training the algorithm on the train set\n",
        "svd.fit(trainset)\n",
        "\n",
        "# Use the function precision_recall_at_k to compute precision@k, recall@k, F1-Score, and RMSE\n",
        "precision_recall_at_k(svd)"
      ]
    },
    {
      "cell_type": "code",
      "execution_count": 147,
      "metadata": {
        "colab": {
          "base_uri": "https://localhost:8080/"
        },
        "id": "K1GQ7ashNJiA",
        "outputId": "477123ee-4d90-442f-80d2-edea3f3a3c60"
      },
      "outputs": [
        {
          "name": "stdout",
          "output_type": "stream",
          "text": [
            "user: Carrefour - Diani item: Barbecue Sauce Honey 250gms r_ui = 5.00   est = 4.71   {'was_impossible': False}\n"
          ]
        },
        {
          "data": {
            "text/plain": [
              "Prediction(uid='Carrefour - Diani', iid='Barbecue Sauce Honey 250gms', r_ui=5, est=4.706802689963409, details={'was_impossible': False})"
            ]
          },
          "execution_count": 147,
          "metadata": {},
          "output_type": "execute_result"
        }
      ],
      "source": [
        "# Making prediction\n",
        "svd.predict(\"Carrefour - Diani\", \"Barbecue Sauce Honey 250gms\", r_ui = 5, verbose = True)"
      ]
    },
    {
      "cell_type": "markdown",
      "metadata": {
        "id": "AA_3WmGLN5_V"
      },
      "source": [
        "Improving Matrix Factorization based recommendation system by tuning its hyperparameters\n"
      ]
    },
    {
      "cell_type": "code",
      "execution_count": 148,
      "metadata": {
        "colab": {
          "base_uri": "https://localhost:8080/"
        },
        "id": "afzUhMX3NJtM",
        "outputId": "abbe0591-4d67-49ac-cc3e-c47e45c585b3"
      },
      "outputs": [
        {
          "name": "stdout",
          "output_type": "stream",
          "text": [
            "1.1322769921178384\n",
            "{'n_epochs': 30, 'lr_all': 0.01, 'reg_all': 0.2}\n"
          ]
        }
      ],
      "source": [
        "# Set the parameter space to tune\n",
        "param_grid = {'n_epochs': [10, 20, 30], 'lr_all': [0.001, 0.005, 0.01],\n",
        "              'reg_all': [0.2, 0.4, 0.6]}\n",
        "\n",
        "# Performing 3-fold gridsearch cross-validation\n",
        "gs_ = GridSearchCV(SVD, param_grid, measures = ['rmse'], cv = 3, n_jobs = -1)\n",
        "\n",
        "# Fitting data\n",
        "gs_.fit(data)\n",
        "\n",
        "# Best RMSE score\n",
        "print(gs_.best_score['rmse'])\n",
        "\n",
        "# Combination of parameters that gave the best RMSE score\n",
        "print(gs_.best_params['rmse'])"
      ]
    },
    {
      "cell_type": "code",
      "execution_count": 149,
      "metadata": {
        "colab": {
          "base_uri": "https://localhost:8080/"
        },
        "id": "giKb0HYNOFnG",
        "outputId": "05d1320b-3e81-471b-ea71-73e8311d1d56"
      },
      "outputs": [
        {
          "name": "stdout",
          "output_type": "stream",
          "text": [
            "RMSE: 1.1157\n",
            "Precision:  0.677\n",
            "Recall:  0.665\n",
            "F_1 score:  0.671\n"
          ]
        }
      ],
      "source": [
        "# Build the optimized SVD model using optimal hyperparameter search. Use random_state = 1\n",
        "svd_optimized = SVD(n_epochs = 30, lr_all = 0.01, reg_all = 0.2, random_state = 1)\n",
        "\n",
        "# Train the algorithm on the train set\n",
        "svd_optimized = svd_optimized.fit(trainset)\n",
        "\n",
        "# Use the function precision_recall_at_k to compute precision@k, recall@k, F1-Score, and RMSE\n",
        "precision_recall_at_k(svd_optimized)"
      ]
    },
    {
      "cell_type": "code",
      "execution_count": 150,
      "metadata": {
        "id": "NuZJucyEOFx7"
      },
      "outputs": [],
      "source": [
        "# Making top 5 recommendations for user_id A1A5KUIIIHFF4U with similarity-based recommendation engine.\n",
        "recommendations = get_recommendations(df, \"Chandarana - Ridgeways\", 5, svd_optimized)"
      ]
    },
    {
      "cell_type": "code",
      "execution_count": 152,
      "metadata": {},
      "outputs": [
        {
          "name": "stdout",
          "output_type": "stream",
          "text": [
            "            customer                       product  rating\n",
            "0  Carrefour - Comet  1000 Island Dressing  250gms       2\n",
            "1  Carrefour - Comet        Barbecue Sauce 400 gms       5\n",
            "2  Carrefour - Comet          Barbecue Sauce 700gm       1\n",
            "3  Carrefour - Comet     Barbecue Sauce Honey 700g       2\n",
            "4  Carrefour - Comet     Barbecue Sauce Smoke 700g       2\n",
            "<surprise.prediction_algorithms.knns.KNNBasic object at 0x0000020A64A93920>\n",
            "def get_recommendations(data, customer, top_n, algo):\n",
            "\n",
            "    # Creating an empty list to store the recommended product ids\n",
            "    recommendations = []\n",
            "\n",
            "    # Creating an user item interactions matrix\n",
            "    user_item_interactions_matrix = data.pivot(index = 'customer', columns = 'product', values = 'rating')\n",
            "\n",
            "    # Extracting those product ids which the user_id has not interacted yet\n",
            "    non_interacted_products = user_item_interactions_matrix.loc[customer][user_item_interactions_matrix.loc[customer].isnull()].index.tolist()\n",
            "\n",
            "    # Looping through each of the product ids which user_id has not interacted yet\n",
            "    for product in non_interacted_products:\n",
            "\n",
            "        # Predicting the ratings for those non interacted product ids by this user\n",
            "        est = algo.predict(customer, product).est\n",
            "\n",
            "        # Appending the predicted ratings\n",
            "        recommendations.append((product, est))\n",
            "\n",
            "    # Sorting the predicted ratings in descending order\n",
            "    recommendations.sort(key = lambda x: x[1], reverse = True)\n",
            "\n",
            "    return recommendations[:top_n] # Returing top n highest predicted rating products for this user\n",
            "\n"
          ]
        }
      ],
      "source": [
        "# Show dataset loading code\n",
        "print(df.head())\n",
        "\n",
        "# Show model details (check if it is a matrix or a trained model)\n",
        "print(sim_item_item_optimized)\n",
        "\n",
        "# Show the recommendation function\n",
        "import inspect\n",
        "print(inspect.getsource(get_recommendations))\n"
      ]
    },
    {
      "cell_type": "code",
      "execution_count": 151,
      "metadata": {
        "colab": {
          "base_uri": "https://localhost:8080/",
          "height": 206
        },
        "id": "e8F_X_1iOGA9",
        "outputId": "1c7a34c3-75b6-42f3-d3c4-ae99b69bdf33"
      },
      "outputs": [
        {
          "data": {
            "application/vnd.microsoft.datawrangler.viewer.v0+json": {
              "columns": [
                {
                  "name": "index",
                  "rawType": "int64",
                  "type": "integer"
                },
                {
                  "name": "product",
                  "rawType": "object",
                  "type": "string"
                },
                {
                  "name": "predicted_ratings",
                  "rawType": "float64",
                  "type": "float"
                }
              ],
              "conversionMethod": "pd.DataFrame",
              "ref": "0a1aacec-1d9f-4944-af48-b92ccb1ac918",
              "rows": [
                [
                  "0",
                  "Mayo Ketchup Dressing 250gms",
                  "4.666454393232641"
                ],
                [
                  "1",
                  "Honey Squeeze Bottle 300g",
                  "4.64034192321809"
                ],
                [
                  "2",
                  "Barbecue Sauce Honey 250gms",
                  "4.6200456498800655"
                ],
                [
                  "3",
                  "Jalapenos 350g",
                  "4.589035352529982"
                ],
                [
                  "4",
                  "Asili Pishori Rice 1KG",
                  "4.518540644442501"
                ]
              ],
              "shape": {
                "columns": 2,
                "rows": 5
              }
            },
            "text/html": [
              "<div>\n",
              "<style scoped>\n",
              "    .dataframe tbody tr th:only-of-type {\n",
              "        vertical-align: middle;\n",
              "    }\n",
              "\n",
              "    .dataframe tbody tr th {\n",
              "        vertical-align: top;\n",
              "    }\n",
              "\n",
              "    .dataframe thead th {\n",
              "        text-align: right;\n",
              "    }\n",
              "</style>\n",
              "<table border=\"1\" class=\"dataframe\">\n",
              "  <thead>\n",
              "    <tr style=\"text-align: right;\">\n",
              "      <th></th>\n",
              "      <th>product</th>\n",
              "      <th>predicted_ratings</th>\n",
              "    </tr>\n",
              "  </thead>\n",
              "  <tbody>\n",
              "    <tr>\n",
              "      <th>0</th>\n",
              "      <td>Mayo Ketchup Dressing 250gms</td>\n",
              "      <td>4.666454</td>\n",
              "    </tr>\n",
              "    <tr>\n",
              "      <th>1</th>\n",
              "      <td>Honey Squeeze Bottle 300g</td>\n",
              "      <td>4.640342</td>\n",
              "    </tr>\n",
              "    <tr>\n",
              "      <th>2</th>\n",
              "      <td>Barbecue Sauce Honey 250gms</td>\n",
              "      <td>4.620046</td>\n",
              "    </tr>\n",
              "    <tr>\n",
              "      <th>3</th>\n",
              "      <td>Jalapenos 350g</td>\n",
              "      <td>4.589035</td>\n",
              "    </tr>\n",
              "    <tr>\n",
              "      <th>4</th>\n",
              "      <td>Asili Pishori Rice 1KG</td>\n",
              "      <td>4.518541</td>\n",
              "    </tr>\n",
              "  </tbody>\n",
              "</table>\n",
              "</div>"
            ],
            "text/plain": [
              "                        product  predicted_ratings\n",
              "0  Mayo Ketchup Dressing 250gms           4.666454\n",
              "1     Honey Squeeze Bottle 300g           4.640342\n",
              "2   Barbecue Sauce Honey 250gms           4.620046\n",
              "3                Jalapenos 350g           4.589035\n",
              "4        Asili Pishori Rice 1KG           4.518541"
            ]
          },
          "execution_count": 151,
          "metadata": {},
          "output_type": "execute_result"
        }
      ],
      "source": [
        "# Building the dataframe for above recommendations with columns \"prod_id\" and \"predicted_ratings\"\n",
        "pd.DataFrame(recommendations, columns = ['product', 'predicted_ratings'])"
      ]
    },
    {
      "cell_type": "code",
      "execution_count": 153,
      "metadata": {},
      "outputs": [],
      "source": [
        "import pickle\n",
        "\n",
        "# Save the trained model\n",
        "with open(\"model.pkl\", \"wb\") as f:\n",
        "    pickle.dump(sim_item_item_optimized, f)\n"
      ]
    }
  ],
  "metadata": {
    "colab": {
      "provenance": []
    },
    "kernelspec": {
      "display_name": "Python 3",
      "name": "python3"
    },
    "language_info": {
      "codemirror_mode": {
        "name": "ipython",
        "version": 3
      },
      "file_extension": ".py",
      "mimetype": "text/x-python",
      "name": "python",
      "nbconvert_exporter": "python",
      "pygments_lexer": "ipython3",
      "version": "3.12.2"
    }
  },
  "nbformat": 4,
  "nbformat_minor": 0
}
